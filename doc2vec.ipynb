{
 "cells": [
  {
   "cell_type": "markdown",
   "id": "e6475d4e-49b6-4a5a-a92a-c242321d4abc",
   "metadata": {},
   "source": [
    "# doc2vecの学習"
   ]
  },
  {
   "cell_type": "markdown",
   "id": "9c33748c-1fb5-4f77-b6fb-28d953329ba2",
   "metadata": {},
   "source": [
    "## モデルの学習"
   ]
  },
  {
   "cell_type": "code",
   "execution_count": 23,
   "id": "2aacd24b-3e5d-4c5e-b6ec-daa3849a4d72",
   "metadata": {},
   "outputs": [],
   "source": [
    "import glob\n",
    "import os\n",
    "import re\n",
    "import pickle\n",
    "from gensim.models.doc2vec import Doc2Vec, TaggedDocument"
   ]
  },
  {
   "cell_type": "code",
   "execution_count": 2,
   "id": "50b95524-4b29-45ef-89d3-0077111070ac",
   "metadata": {},
   "outputs": [],
   "source": [
    "#pdftotextでテキストの抽出\n",
    "report_all_path = 'pvis_data/paper_and_poster'\n",
    "file_name_pt = re.compile('(.*).pdf')\n",
    "for file in sorted(glob.glob(f'{report_all_path}/*.pdf')):\n",
    "    file_name = file_name_pt.match(file).group(1)\n",
    "    os.system(f'pdftotext {file} {file_name}.txt')"
   ]
  },
  {
   "cell_type": "code",
   "execution_count": 9,
   "id": "8933232a-c1d3-4140-bb51-384d1663a636",
   "metadata": {},
   "outputs": [],
   "source": [
    "report_all_path = '../pvis_data/paper_and_poster'\n",
    "train_txt_initial = []\n",
    "for file in sorted(glob.glob(f'{report_all_path}/*.txt')):\n",
    "    with open(file, encoding=\"utf8\", errors='ignore') as f:\n",
    "        text = f.read()\n",
    "    train_txt_initial += text.split('\\n')\n",
    "train_txt = []\n",
    "for txt in train_txt_initial:\n",
    "    if txt !='':train_txt.append(txt)\n",
    "train_txt = list(set(train_txt))\n"
   ]
  },
  {
   "cell_type": "code",
   "execution_count": 11,
   "id": "c7a9eacd-aab8-46ba-bb5e-e633dfd7743f",
   "metadata": {},
   "outputs": [],
   "source": [
    "##文章のデータをまとめて保存する\n",
    "with open('../pvis_data/paper_and_poster/all.pickle', mode='wb') as f:\n",
    "    pickle.dump([train_txt],f)"
   ]
  },
  {
   "cell_type": "code",
   "execution_count": 12,
   "id": "f9ed02fd-a45b-43e9-a6c0-7c42ec44f963",
   "metadata": {},
   "outputs": [
    {
     "name": "stdout",
     "output_type": "stream",
     "text": [
      "8257\n"
     ]
    }
   ],
   "source": [
    "## 作った文章の集合が幾つの要素を含むのか\n",
    "print(len(train_txt))"
   ]
  },
  {
   "cell_type": "code",
   "execution_count": 17,
   "id": "738bf3b4-fe75-4127-ae18-fd6c069b6924",
   "metadata": {},
   "outputs": [],
   "source": [
    "## 文章の取り出し\n",
    "with open('../pvis_data/paper_and_poster/all.pickle', mode='rb') as f:\n",
    "    [train_txt] = pickle.load(f)"
   ]
  },
  {
   "cell_type": "code",
   "execution_count": 27,
   "id": "bcee8f1d-5291-48aa-a1a2-401c49ebdc2e",
   "metadata": {},
   "outputs": [],
   "source": [
    "#コーパスの準備\n",
    "def prepare_corpus(text_list):\n",
    "    new_list = []\n",
    "    for line in text_list:\n",
    "        tokens = gensim.utils.simple_preprocess(line)\n",
    "        new_list.append(tokens)\n",
    "    return new_list\n",
    "    \n",
    "\n",
    "#doc2vecの学習\n",
    "def createBigDoc2Vec(text_list):\n",
    "    text_list = prepare_corpus(text_list)\n",
    "    train_corpus = [TaggedDocument(doc, [i]) for i, doc in enumerate(text_list)]\n",
    "    model = gensim.models.doc2vec.Doc2Vec(vector_size=50, min_count=1, epochs=40)\n",
    "    model.build_vocab(train_corpus)\n",
    "    model.train(train_corpus, total_examples=model.corpus_count, epochs=model.epochs)\n",
    "    return model\n",
    "   \n",
    "#doc2vecのモデルmodelから、文章のベクトルを返す\n",
    "def applyDoc2Vec(text_list, model):\n",
    "    \n",
    "    vector = []\n",
    "    new_text = prepare_corpus(text_list)\n",
    "    for doc in text_list:\n",
    "        vector.append(model.infer_vector(doc.split()).tolist())\n",
    "    \n",
    "    return vector"
   ]
  },
  {
   "cell_type": "code",
   "execution_count": 28,
   "id": "03249f93-0ead-4113-9932-a3d04a3b9106",
   "metadata": {},
   "outputs": [],
   "source": [
    "model = createBigDoc2Vec(train_txt)"
   ]
  },
  {
   "cell_type": "code",
   "execution_count": 29,
   "id": "a2b74ac1-5306-4f69-90b6-bef6ba63daf2",
   "metadata": {},
   "outputs": [],
   "source": [
    "model.save('doc2vec.model')"
   ]
  }
 ],
 "metadata": {
  "kernelspec": {
   "display_name": "Python 3 (ipykernel)",
   "language": "python",
   "name": "python3"
  },
  "language_info": {
   "codemirror_mode": {
    "name": "ipython",
    "version": 3
   },
   "file_extension": ".py",
   "mimetype": "text/x-python",
   "name": "python",
   "nbconvert_exporter": "python",
   "pygments_lexer": "ipython3",
   "version": "3.9.13"
  }
 },
 "nbformat": 4,
 "nbformat_minor": 5
}
